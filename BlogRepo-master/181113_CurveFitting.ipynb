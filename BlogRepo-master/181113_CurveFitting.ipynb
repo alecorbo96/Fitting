{
 "cells": [
  {
   "cell_type": "code",
   "execution_count": 2,
   "metadata": {
    "collapsed": true
   },
   "outputs": [],
   "source": [
    "import matplotlib\n",
    "import matplotlib.pyplot as plt\n",
    "import numpy as np\n",
    "import scipy as scipy\n",
    "from scipy import optimize\n",
    "from matplotlib.ticker import AutoMinorLocator\n",
    "from matplotlib import gridspec\n",
    "import matplotlib.ticker as ticker\n",
    "%matplotlib inline"
   ]
  },
  {
   "cell_type": "markdown",
   "metadata": {},
   "source": [
    "# Linear Fitting"
   ]
  },
  {
   "cell_type": "markdown",
   "metadata": {},
   "source": [
    "### Creating some fake linear data to fit"
   ]
  },
  {
   "cell_type": "code",
   "execution_count": 3,
   "metadata": {
    "collapsed": true
   },
   "outputs": [],
   "source": [
    "# linearly spaced x-axis of 10 values between 1 and 10\n",
    "x_array = np.linspace(1,10,10)\n",
    "\n",
    "# linearly spaced y-axis of 10 values between 5 and 200\n",
    "y_array = np.linspace(5,200,10)\n",
    "\n",
    "# creating some noise to add the the y-axis data\n",
    "y_noise = 30*(np.random.ranf(10))\n",
    "y_array += y_noise"
   ]
  },
  {
   "cell_type": "markdown",
   "metadata": {},
   "source": [
    "### Plotting the linear data"
   ]
  },
  {
   "cell_type": "code",
   "execution_count": 4,
   "metadata": {},
   "outputs": [
    {
     "data": {
      "image/png": "[encoded data removed]",
      "text/plain": [
       "<matplotlib.figure.Figure at 0x8bda2b0>"
      ]
     },
     "metadata": {},
     "output_type": "display_data"
    }
   ],
   "source": [
    "fig = plt.figure(figsize=(4,3))\n",
    "gs = gridspec.GridSpec(1,1)\n",
    "ax1 = fig.add_subplot(gs[0])\n",
    "\n",
    "ax1.plot(x_array, y_array, \"ro\")\n",
    "\n",
    "ax1.set_xlim(0,11)\n",
    "ax1.set_ylim(-10,250)\n",
    "\n",
    "ax1.set_xlabel(\"x_array\",family=\"serif\",  fontsize=12)\n",
    "ax1.set_ylabel(\"y_array\",family=\"serif\",  fontsize=12)\n",
    "\n",
    "ax1.xaxis.set_major_locator(ticker.MultipleLocator(2))\n",
    "ax1.yaxis.set_major_locator(ticker.MultipleLocator(50))\n",
    "\n",
    "ax1.xaxis.set_minor_locator(AutoMinorLocator(2))\n",
    "ax1.yaxis.set_minor_locator(AutoMinorLocator(2))\n",
    "\n",
    "ax1.tick_params(axis='both',which='major', direction=\"out\", top=\"on\", right=\"on\", bottom=\"on\", length=8, labelsize=8)\n",
    "ax1.tick_params(axis='both',which='minor', direction=\"out\", top=\"on\", right=\"on\", bottom=\"on\", length=5, labelsize=8)\n",
    "\n",
    "fig.tight_layout()\n",
    "fig.savefig(\"rawLinear.png\", format=\"png\",dpi=1000)"
   ]
  },
  {
   "cell_type": "markdown",
   "metadata": {},
   "source": [
    "### Fitting the linear data to a line"
   ]
  },
  {
   "cell_type": "code",
   "execution_count": 5,
   "metadata": {
    "collapsed": true
   },
   "outputs": [],
   "source": [
    "# define a fitting function called linear which takes\n",
    "# in the x-data (x) and returns a line with equation\n",
    "# mx+b which best fits the data\n",
    "def linear(x, m, b):\n",
    "    return m*x + b"
   ]
  },
  {
   "cell_type": "code",
   "execution_count": 6,
   "metadata": {
    "collapsed": true
   },
   "outputs": [],
   "source": [
    "# using the scipy library to fit the x- and y-axis data \n",
    "# p0 is where you give the function guesses for the fitting parameters\n",
    "# this function returns:\n",
    "#   popt_linear: this contains the fitting parameters\n",
    "#   pcov_linear: estimated covariance of the fitting paramters\n",
    "popt_linear, pcov_linear = scipy.optimize.curve_fit(linear, x_array, y_array, p0=[((75-25)/(44-2)), 0])\n",
    "\n",
    "# we then can find the error of the fitting parameters\n",
    "# from the pcov_linear array\n",
    "perr_linear = np.sqrt(np.diag(pcov_linear))"
   ]
  },
  {
   "cell_type": "code",
   "execution_count": 10,
   "metadata": {},
   "outputs": [
    {
     "name": "stdout",
     "output_type": "stream",
     "text": [
      "slope = 22.31 (+/-) 0.67\n",
      "y-intercept = -3.00 (+/-) 4.18\n"
     ]
    }
   ],
   "source": [
    "# this cell prints the fitting parameters with their errors\n",
    "print \"slope = %0.2f (+/-) %0.2f\" % (popt_linear[0], perr_linear[0])\n",
    "print \"y-intercept = %0.2f (+/-) %0.2f\" %(popt_linear[1], perr_linear[1])"
   ]
  },
  {
   "cell_type": "markdown",
   "metadata": {},
   "source": [
    "### Plotting the linear data and the best-fit curve"
   ]
  },
  {
   "cell_type": "code",
   "execution_count": 11,
   "metadata": {},
   "outputs": [
    {
     "data": {
      "image/png": "[encoded data removed]",
      "text/plain": [
       "<matplotlib.figure.Figure at 0x8d8dbe0>"
      ]
     },
     "metadata": {},
     "output_type": "display_data"
    }
   ],
   "source": [
    "fig = plt.figure(figsize=(4,3))\n",
    "gs = gridspec.GridSpec(1,1)\n",
    "ax1 = fig.add_subplot(gs[0])\n",
    "\n",
    "ax1.plot(x_array, y_array, \"ro\")\n",
    "ax1.plot(x_array, linear(x_array, *popt_linear), 'k--', label=\"y= %0.2fx + %0.2f\" % (popt_linear[0], popt_linear[1]))\n",
    "\n",
    "ax1.set_xlim(0,11)\n",
    "ax1.set_ylim(-10,250)\n",
    "\n",
    "ax1.set_xlabel(\"x_array\",family=\"serif\",  fontsize=12)\n",
    "ax1.set_ylabel(\"y_array\",family=\"serif\",  fontsize=12)\n",
    "\n",
    "ax1.legend(loc='best')\n",
    "\n",
    "ax1.xaxis.set_major_locator(ticker.MultipleLocator(2))\n",
    "ax1.yaxis.set_major_locator(ticker.MultipleLocator(50))\n",
    "\n",
    "ax1.xaxis.set_minor_locator(AutoMinorLocator(2))\n",
    "ax1.yaxis.set_minor_locator(AutoMinorLocator(2))\n",
    "\n",
    "ax1.tick_params(axis='both',which='major', direction=\"out\", top=\"on\", right=\"on\", bottom=\"on\", length=8, labelsize=8)\n",
    "ax1.tick_params(axis='both',which='minor', direction=\"out\", top=\"on\", right=\"on\", bottom=\"on\", length=5, labelsize=8)\n",
    "\n",
    "fig.tight_layout()\n",
    "fig.savefig(\"fittedLinear.png\", format=\"png\",dpi=1000)"
   ]
  },
  {
   "cell_type": "markdown",
   "metadata": {},
   "source": [
    "# Single Exponential Fitting"
   ]
  },
  {
   "cell_type": "markdown",
   "metadata": {},
   "source": [
    "### Creating some exponential data to fit"
   ]
  },
  {
   "cell_type": "code",
   "execution_count": 13,
   "metadata": {
    "collapsed": true
   },
   "outputs": [],
   "source": [
    "# will use the same x-axis that we used for the linear data\n",
    "# then, we take that x-axis data and make an exponential from it\n",
    "y_array_exp = np.exp(-x_array*0.7)\n",
    "\n",
    "# creating some noise to add the the y-axis data\n",
    "y_noise_exp = (np.exp((np.random.ranf(10))))/30\n",
    "y_array_exp += y_noise_exp"
   ]
  },
  {
   "cell_type": "markdown",
   "metadata": {},
   "source": [
    "### Plotting the exponential data"
   ]
  },
  {
   "cell_type": "code",
   "execution_count": 14,
   "metadata": {},
   "outputs": [
    {
     "data": {
      "image/png": "[encoded data removed]",
      "text/plain": [
       "<matplotlib.figure.Figure at 0x956c8d0>"
      ]
     },
     "metadata": {},
     "output_type": "display_data"
    }
   ],
   "source": [
    "fig = plt.figure(figsize=(4,3))\n",
    "gs = gridspec.GridSpec(1,1)\n",
    "ax1 = fig.add_subplot(gs[0])\n",
    "\n",
    "ax1.plot(x_array, y_array_exp, \"ro\")\n",
    "\n",
    "ax1.set_xlim(0,11)\n",
    "ax1.set_ylim(-0.1,0.7)\n",
    "\n",
    "ax1.set_xlabel(\"x_array\",family=\"serif\",  fontsize=12)\n",
    "ax1.set_ylabel(\"y_array\",family=\"serif\",  fontsize=12)\n",
    "\n",
    "ax1.xaxis.set_major_locator(ticker.MultipleLocator(2))\n",
    "ax1.yaxis.set_major_locator(ticker.MultipleLocator(0.2))\n",
    "\n",
    "ax1.xaxis.set_minor_locator(AutoMinorLocator(2))\n",
    "ax1.yaxis.set_minor_locator(AutoMinorLocator(2))\n",
    "\n",
    "ax1.tick_params(axis='both',which='major', direction=\"out\", top=\"on\", right=\"on\", bottom=\"on\", length=8, labelsize=8)\n",
    "ax1.tick_params(axis='both',which='minor', direction=\"out\", top=\"on\", right=\"on\", bottom=\"on\", length=5, labelsize=8)\n",
    "\n",
    "fig.tight_layout()\n",
    "fig.savefig(\"rawExponential.png\", format=\"png\",dpi=1000)"
   ]
  },
  {
   "cell_type": "markdown",
   "metadata": {},
   "source": [
    "### Fitting the exponential data to single exponential function"
   ]
  },
  {
   "cell_type": "code",
   "execution_count": 15,
   "metadata": {
    "collapsed": true
   },
   "outputs": [],
   "source": [
    "# define a fitting function called exponentail which takes\n",
    "# in the x-data (x) and returns an exponential curve with equation\n",
    "# a*exp(x*k) which best fits the data\n",
    "def exponential(x, a, k, b):\n",
    "    return a*np.exp(x*k) + b"
   ]
  },
  {
   "cell_type": "code",
   "execution_count": 16,
   "metadata": {
    "collapsed": true
   },
   "outputs": [],
   "source": [
    "# using the scipy library to fit the x- and y-axis data \n",
    "# p0 is where you give the function guesses for the fitting parameters\n",
    "# this function returns:\n",
    "#   popt_exponential: this contains the fitting parameters\n",
    "#   pcov_exponential: estimated covariance of the fitting paramters\n",
    "popt_exponential, pcov_exponential = scipy.optimize.curve_fit(exponential, x_array, y_array_exp, p0=[1,-0.5, 1])\n",
    "\n",
    "# we then can find the error of the fitting parameters\n",
    "# from the pcov_linear array\n",
    "perr_exponential = np.sqrt(np.diag(pcov_exponential))"
   ]
  },
  {
   "cell_type": "code",
   "execution_count": 18,
   "metadata": {},
   "outputs": [
    {
     "name": "stdout",
     "output_type": "stream",
     "text": [
      "pre-exponential factor = 0.90 (+/-) 0.08\n",
      "rate constant = -0.65 (+/-) 0.07\n"
     ]
    }
   ],
   "source": [
    "# this cell prints the fitting parameters with their errors\n",
    "print \"pre-exponential factor = %0.2f (+/-) %0.2f\" % (popt_exponential[0], perr_exponential[0])\n",
    "print \"rate constant = %0.2f (+/-) %0.2f\" % (popt_exponential[1], perr_exponential[1])"
   ]
  },
  {
   "cell_type": "markdown",
   "metadata": {},
   "source": [
    "### Plotting the exponential data and the best-fit curve"
   ]
  },
  {
   "cell_type": "code",
   "execution_count": 19,
   "metadata": {},
   "outputs": [
    {
     "data": {
      "image/png": "[encoded data removed]",
      "text/plain": [
       "<matplotlib.figure.Figure at 0x9959940>"
      ]
     },
     "metadata": {},
     "output_type": "display_data"
    }
   ],
   "source": [
    "fig = plt.figure(figsize=(4,3))\n",
    "gs = gridspec.GridSpec(1,1)\n",
    "ax1 = fig.add_subplot(gs[0])\n",
    "\n",
    "ax1.plot(x_array, y_array_exp, \"ro\")\n",
    "ax1.plot(x_array, exponential(x_array, *popt_exponential), 'k--', \\\n",
    "         label=\"y= %0.2f$e^{%0.2fx}$ + %0.2f\" % (popt_exponential[0], popt_exponential[1], popt_exponential[2]))\n",
    "\n",
    "ax1.set_xlim(0,11)\n",
    "ax1.set_ylim(-0.1,0.7)\n",
    "\n",
    "ax1.set_xlabel(\"x_array\",family=\"serif\",  fontsize=12)\n",
    "ax1.set_ylabel(\"y_array\",family=\"serif\",  fontsize=12)\n",
    "\n",
    "ax1.legend(loc='best')\n",
    "\n",
    "ax1.xaxis.set_major_locator(ticker.MultipleLocator(2))\n",
    "ax1.yaxis.set_major_locator(ticker.MultipleLocator(0.2))\n",
    "\n",
    "ax1.xaxis.set_minor_locator(AutoMinorLocator(2))\n",
    "ax1.yaxis.set_minor_locator(AutoMinorLocator(2))\n",
    "\n",
    "ax1.tick_params(axis='both',which='major', direction=\"out\", top=\"on\", right=\"on\", bottom=\"on\", length=8, labelsize=8)\n",
    "ax1.tick_params(axis='both',which='minor', direction=\"out\", top=\"on\", right=\"on\", bottom=\"on\", length=5, labelsize=8)\n",
    "\n",
    "fig.tight_layout()\n",
    "fig.savefig(\"fittedExponential.png\", format=\"png\",dpi=1000)"
   ]
  },
  {
   "cell_type": "markdown",
   "metadata": {},
   "source": [
    "# Bi-Exponential Fitting"
   ]
  },
  {
   "cell_type": "markdown",
   "metadata": {},
   "source": [
    "### Creating some bi-exponentially decaying data to fit"
   ]
  },
  {
   "cell_type": "code",
   "execution_count": 20,
   "metadata": {
    "collapsed": true
   },
   "outputs": [],
   "source": [
    "# will use the same x-axis that we used for the linear data\n",
    "# then, we take that x-axis data and make an exponential from it\n",
    "y_array_2exp = (np.exp(-x_array*0.1) + np.exp(-x_array*1))\n",
    "\n",
    "# creating some noise to add the the y-axis data\n",
    "y_noise_2exp = (np.exp((np.random.ranf(10))))/30\n",
    "y_array_2exp += y_noise_exp"
   ]
  },
  {
   "cell_type": "markdown",
   "metadata": {},
   "source": [
    "### Plotting the bi-exponential data"
   ]
  },
  {
   "cell_type": "code",
   "execution_count": 21,
   "metadata": {},
   "outputs": [
    {
     "data": {
      "image/png": "[encoded data removed]",
      "text/plain": [
       "<matplotlib.figure.Figure at 0x8bc3c50>"
      ]
     },
     "metadata": {},
     "output_type": "display_data"
    }
   ],
   "source": [
    "fig = plt.figure(figsize=(4,3))\n",
    "gs = gridspec.GridSpec(1,1)\n",
    "ax1 = fig.add_subplot(gs[0])\n",
    "\n",
    "ax1.plot(x_array, y_array_2exp, \"ro\")\n",
    "\n",
    "ax1.set_xlim(0,11)\n",
    "ax1.set_ylim(0.2,1.5)\n",
    "\n",
    "ax1.set_xlabel(\"x_array\",family=\"serif\",  fontsize=12)\n",
    "ax1.set_ylabel(\"y_array\",family=\"serif\",  fontsize=12)\n",
    "\n",
    "ax1.xaxis.set_major_locator(ticker.MultipleLocator(2))\n",
    "ax1.yaxis.set_major_locator(ticker.MultipleLocator(0.2))\n",
    "\n",
    "ax1.xaxis.set_minor_locator(AutoMinorLocator(2))\n",
    "ax1.yaxis.set_minor_locator(AutoMinorLocator(2))\n",
    "\n",
    "ax1.tick_params(axis='both',which='major', direction=\"out\", top=\"on\", right=\"on\", bottom=\"on\", length=8, labelsize=8)\n",
    "ax1.tick_params(axis='both',which='minor', direction=\"out\", top=\"on\", right=\"on\", bottom=\"on\", length=5, labelsize=8)\n",
    "\n",
    "fig.tight_layout()\n",
    "fig.savefig(\"rawBiexponential.png\", format=\"png\",dpi=1000)"
   ]
  },
  {
   "cell_type": "code",
   "execution_count": 22,
   "metadata": {
    "collapsed": true
   },
   "outputs": [],
   "source": [
    "# define a fitting function called exponentail which takes\n",
    "# in the x-data (x) and returns an exponential curve with equation\n",
    "# a*exp(x*k) which best fits the data\n",
    "def _2exponential(x, a, k1, b, k2, c):\n",
    "    return a*np.exp(x*k1) + b*np.exp(x*k2) + c"
   ]
  },
  {
   "cell_type": "code",
   "execution_count": 23,
   "metadata": {
    "collapsed": true
   },
   "outputs": [],
   "source": [
    "# using the scipy library to fit the x- and y-axis data \n",
    "# p0 is where you give the function guesses for the fitting parameters\n",
    "# this function returns:\n",
    "#   popt_exponential: this contains the fitting parameters\n",
    "#   pcov_exponential: estimated covariance of the fitting paramters\n",
    "popt_2exponential, pcov_2exponential = scipy.optimize.curve_fit(_2exponential, x_array, y_array_2exp, p0=[1,-0.1, 1, -1, 1])\n",
    "\n",
    "# we then can find the error of the fitting parameters\n",
    "# from the pcov_linear array\n",
    "perr_2exponential = np.sqrt(np.diag(pcov_2exponential))"
   ]
  },
  {
   "cell_type": "code",
   "execution_count": 25,
   "metadata": {},
   "outputs": [
    {
     "name": "stdout",
     "output_type": "stream",
     "text": [
      "pre-exponential factor 1 = 1.04 (+/-) 0.08\n",
      "rate constant 1 = -0.18 (+/-) 0.06\n",
      "pre-exponential factor 2 = 4.05 (+/-) 0.01\n",
      "rate constant 2 = -3.09 (+/-) 5.99\n"
     ]
    }
   ],
   "source": [
    "# this cell prints the fitting parameters with their errors\n",
    "print \"pre-exponential factor 1 = %0.2f (+/-) %0.2f\" % (popt_2exponential[0], perr_exponential[0])\n",
    "print \"rate constant 1 = %0.2f (+/-) %0.2f\" % (popt_2exponential[1], perr_2exponential[1])\n",
    "print \"pre-exponential factor 2 = %0.2f (+/-) %0.2f\" % (popt_2exponential[2], perr_exponential[2])\n",
    "print \"rate constant 2 = %0.2f (+/-) %0.2f\" % (popt_2exponential[3], perr_2exponential[3])"
   ]
  },
  {
   "cell_type": "code",
   "execution_count": 26,
   "metadata": {},
   "outputs": [
    {
     "data": {
      "image/png": "[encoded data removed]",
      "text/plain": [
       "<matplotlib.figure.Figure at 0x96ce358>"
      ]
     },
     "metadata": {},
     "output_type": "display_data"
    }
   ],
   "source": [
    "fig = plt.figure(figsize=(4,3))\n",
    "gs = gridspec.GridSpec(1,1)\n",
    "ax1 = fig.add_subplot(gs[0])\n",
    "\n",
    "ax1.plot(x_array, y_array_2exp, \"ro\")\n",
    "ax1.plot(x_array, _2exponential(x_array, *popt_2exponential), 'k--', \\\n",
    "   label=\"y= %0.2f$e^{%0.2fx}$ + \\n %0.2f$e^{%0.2fx}$ + %0.2f\" % (popt_2exponential[0], popt_2exponential[1], popt_2exponential[2],\\\n",
    "                                                               popt_2exponential[3], popt_2exponential[4]))\n",
    "\n",
    "ax1.set_xlim(0,11)\n",
    "ax1.set_ylim(0.2,1.5)\n",
    "\n",
    "ax1.set_xlabel(\"x_array\",family=\"serif\",  fontsize=12)\n",
    "ax1.set_ylabel(\"y_array\",family=\"serif\",  fontsize=12)\n",
    "\n",
    "ax1.legend(loc='best')\n",
    "\n",
    "ax1.xaxis.set_major_locator(ticker.MultipleLocator(2))\n",
    "ax1.yaxis.set_major_locator(ticker.MultipleLocator(0.2))\n",
    "\n",
    "ax1.xaxis.set_minor_locator(AutoMinorLocator(2))\n",
    "ax1.yaxis.set_minor_locator(AutoMinorLocator(2))\n",
    "\n",
    "ax1.tick_params(axis='both',which='major', direction=\"out\", top=\"on\", right=\"on\", bottom=\"on\", length=8, labelsize=8)\n",
    "ax1.tick_params(axis='both',which='minor', direction=\"out\", top=\"on\", right=\"on\", bottom=\"on\", length=5, labelsize=8)\n",
    "\n",
    "fig.tight_layout()\n",
    "fig.savefig(\"fitBiexponential.png\", format=\"png\",dpi=1000)"
   ]
  }
 ],
 "metadata": {
  "kernelspec": {
   "display_name": "Python 2",
   "language": "python",
   "name": "python2"
  },
  "language_info": {
   "codemirror_mode": {
    "name": "ipython",
    "version": 2
   },
   "file_extension": ".py",
   "mimetype": "text/x-python",
   "name": "python",
   "nbconvert_exporter": "python",
   "pygments_lexer": "ipython2",
   "version": "2.7.14"
  }
 },
 "nbformat": 4,
 "nbformat_minor": 2
}
